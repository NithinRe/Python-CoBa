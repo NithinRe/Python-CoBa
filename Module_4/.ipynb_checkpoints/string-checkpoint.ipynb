{
 "cells": [
  {
   "cell_type": "markdown",
   "metadata": {},
   "source": [
    "# Strings Basics\n"
   ]
  },
  {
   "cell_type": "markdown",
   "metadata": {},
   "source": [
    "> Write a Python program to get a string made of the first 2 and the last 2 chars from a given a string. If the string length is less than 2, return instead of the empty string. "
   ]
  },
  {
   "cell_type": "code",
   "execution_count": 3,
   "metadata": {},
   "outputs": [
    {
     "data": {
      "text/plain": [
       "'Nidy'"
      ]
     },
     "execution_count": 3,
     "metadata": {},
     "output_type": "execute_result"
    }
   ],
   "source": [
    "def First_two(str):\n",
    "    if len(str) < 2:\n",
    "        return \"It is Empty\"\n",
    "    return str[0:2]+str[-2:]\n",
    "                       \n",
    "First_two('Nithinreddy')"
   ]
  },
  {
   "cell_type": "markdown",
   "metadata": {},
   "source": [
    "> Write a Python program to get a string from a given string where all occurrences of its first char have been changed to '$', except the first char itself"
   ]
  },
  {
   "cell_type": "code",
   "execution_count": 2,
   "metadata": {},
   "outputs": [
    {
     "data": {
      "text/plain": [
       "'nithi*'"
      ]
     },
     "execution_count": 2,
     "metadata": {},
     "output_type": "execute_result"
    }
   ],
   "source": [
    "def change(n):\n",
    "    a = n[0]\n",
    "    n = n.replace(a,'*')\n",
    "    n = a+n[1:]\n",
    "    return n\n",
    "change('nithin')"
   ]
  },
  {
   "cell_type": "markdown",
   "metadata": {},
   "source": [
    "> Write a Python program to get a single string from two given strings, separated by a space and swap the first two characters of each string."
   ]
  },
  {
   "cell_type": "code",
   "execution_count": 1,
   "metadata": {},
   "outputs": [],
   "source": [
    "def swap(a,b):\n",
    "    x = b[:2] + a[2:]\n",
    "    y = a[:2] + b[2:]\n",
    "    return (x + \" \" + y)\n"
   ]
  },
  {
   "cell_type": "code",
   "execution_count": 45,
   "metadata": {},
   "outputs": [
    {
     "data": {
      "text/plain": [
       "'Nethin Nieraj'"
      ]
     },
     "execution_count": 45,
     "metadata": {},
     "output_type": "execute_result"
    }
   ],
   "source": [
    "swap('Nithin','Neeraj')"
   ]
  },
  {
   "cell_type": "code",
   "execution_count": 4,
   "metadata": {},
   "outputs": [
    {
     "data": {
      "text/plain": [
       "'Yathin Nishwanth'"
      ]
     },
     "execution_count": 4,
     "metadata": {},
     "output_type": "execute_result"
    }
   ],
   "source": [
    "swap('Nithin','Yashwanth')\n"
   ]
  },
  {
   "cell_type": "markdown",
   "metadata": {},
   "source": [
    "> Write a Python program to add 'ing' at the end of a given string (length should be at least 3). If the given string already ends with 'ing' then add 'ly'replace it the last given 'ing' or 'ly' instead. If the string length of the given string is less than 3, leave it unchanged"
   ]
  },
  {
   "cell_type": "code",
   "execution_count": 6,
   "metadata": {},
   "outputs": [],
   "source": [
    "def ing_ly(name):\n",
    "    if len(name) < 3:\n",
    "        return name    \n",
    "    elif name[-3:] == 'ing':\n",
    "        name = name.replace(name[-3:],'ly')\n",
    "        return name\n",
    "    elif name[-2:] == 'ly':\n",
    "        name = name.replace(name[-2:],'ing')\n",
    "        return name\n",
    "    else:\n",
    "        name = name+'ing'\n",
    "        return name"
   ]
  },
  {
   "cell_type": "code",
   "execution_count": null,
   "metadata": {},
   "outputs": [],
   "source": []
  },
  {
   "cell_type": "code",
   "execution_count": 7,
   "metadata": {},
   "outputs": [
    {
     "data": {
      "text/plain": [
       "'strly'"
      ]
     },
     "execution_count": 7,
     "metadata": {},
     "output_type": "execute_result"
    }
   ],
   "source": [
    "ing_ly('string')"
   ]
  },
  {
   "cell_type": "markdown",
   "metadata": {},
   "source": [
    ">Write a Python program to add 'ing' at the end of a given string (length should be at least 3). If the given string already ends with 'ing' then add 'ly' instead. If the string length of the given string is less than 3, leave it unchanged"
   ]
  },
  {
   "cell_type": "code",
   "execution_count": 8,
   "metadata": {},
   "outputs": [
    {
     "name": "stdout",
     "output_type": "stream",
     "text": [
      "ab\n",
      "abcing\n",
      "stringly\n"
     ]
    }
   ],
   "source": [
    "def add_string(str1):\n",
    "  length = len(str1)\n",
    "\n",
    "  if length > 2:\n",
    "    if str1[-3:] == 'ing':\n",
    "      str1 += 'ly'\n",
    "    else:\n",
    "      str1 += 'ing'\n",
    "\n",
    "  return str1\n",
    "print(add_string('ab'))\n",
    "print(add_string('abc'))\n",
    "print(add_string('string'))"
   ]
  },
  {
   "cell_type": "markdown",
   "metadata": {},
   "source": [
    "> Write a Python function that takes a list of words and returns the length of the longest one"
   ]
  },
  {
   "cell_type": "code",
   "execution_count": null,
   "metadata": {},
   "outputs": [],
   "source": []
  },
  {
   "cell_type": "code",
   "execution_count": 85,
   "metadata": {},
   "outputs": [
    {
     "name": "stdout",
     "output_type": "stream",
     "text": [
      "Exercises\n"
     ]
    }
   ],
   "source": [
    "def find_longest_word(words_list):\n",
    "    word_len = []\n",
    "    for n in words_list:\n",
    "        word_len.append((len(n), n))\n",
    "    word_len.sort()\n",
    "    return word_len[-1][1]\n",
    "\n",
    "print(find_longest_word([\"PHP\", \"Exercises\", \"Backend\"]))\n"
   ]
  }
 ],
 "metadata": {
  "kernelspec": {
   "display_name": "Python 3",
   "language": "python",
   "name": "python3"
  },
  "language_info": {
   "codemirror_mode": {
    "name": "ipython",
    "version": 3
   },
   "file_extension": ".py",
   "mimetype": "text/x-python",
   "name": "python",
   "nbconvert_exporter": "python",
   "pygments_lexer": "ipython3",
   "version": "3.7.4"
  }
 },
 "nbformat": 4,
 "nbformat_minor": 4
}
