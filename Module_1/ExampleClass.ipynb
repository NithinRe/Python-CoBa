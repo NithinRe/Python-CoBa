{
 "cells": [
  {
   "cell_type": "code",
   "execution_count": 1,
   "metadata": {},
   "outputs": [],
   "source": [
    "class Name():\n",
    "    color = 'white'\n",
    "    def __init__(self,name,age,weight):\n",
    "        self.age = age\n",
    "        self.name = name\n",
    "        self.weight=weight\n",
    "    def height(self,number):\n",
    "        print('Naaayyy My weight is still {} and my height {} '.format(self.weight,number))"
   ]
  },
  {
   "cell_type": "code",
   "execution_count": 7,
   "metadata": {},
   "outputs": [],
   "source": [
    "nithin = Name('bunty',20,86.7)"
   ]
  },
  {
   "cell_type": "code",
   "execution_count": 8,
   "metadata": {},
   "outputs": [
    {
     "name": "stdout",
     "output_type": "stream",
     "text": [
      "Naaayyy My weight is still 86.7 and my height 5.7 \n"
     ]
    }
   ],
   "source": [
    "nithin.height(5.7)"
   ]
  }
 ],
 "metadata": {
  "kernelspec": {
   "display_name": "Python 3",
   "language": "python",
   "name": "python3"
  },
  "language_info": {
   "codemirror_mode": {
    "name": "ipython",
    "version": 3
   },
   "file_extension": ".py",
   "mimetype": "text/x-python",
   "name": "python",
   "nbconvert_exporter": "python",
   "pygments_lexer": "ipython3",
   "version": "3.7.4"
  }
 },
 "nbformat": 4,
 "nbformat_minor": 4
}
