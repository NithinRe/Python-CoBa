{
 "cells": [
  {
   "cell_type": "code",
   "execution_count": 4,
   "metadata": {},
   "outputs": [
    {
     "name": "stdout",
     "output_type": "stream",
     "text": [
      "0\n",
      "2\n",
      "4\n",
      "6\n",
      "8\n"
     ]
    }
   ],
   "source": [
    "num = []\n",
    "for num in range(0,10):\n",
    "    if num%2 == 0:\n",
    "        print(num)\n"
   ]
  },
  {
   "cell_type": "code",
   "execution_count": 20,
   "metadata": {},
   "outputs": [],
   "source": [
    "nithin = [num for num in range(1,50) if num%3 == 0]"
   ]
  },
  {
   "cell_type": "code",
   "execution_count": 21,
   "metadata": {},
   "outputs": [
    {
     "data": {
      "text/plain": [
       "[3, 6, 9, 12, 15, 18, 21, 24, 27, 30, 33, 36, 39, 42, 45, 48]"
      ]
     },
     "execution_count": 21,
     "metadata": {},
     "output_type": "execute_result"
    }
   ],
   "source": [
    "nithin"
   ]
  },
  {
   "cell_type": "code",
   "execution_count": 8,
   "metadata": {},
   "outputs": [],
   "source": [
    "st = 'Print only the words that start with s in this sentence'\n"
   ]
  },
  {
   "cell_type": "code",
   "execution_count": 9,
   "metadata": {},
   "outputs": [
    {
     "data": {
      "text/plain": [
       "'Print only the words that start with s in this sentence'"
      ]
     },
     "execution_count": 9,
     "metadata": {},
     "output_type": "execute_result"
    }
   ],
   "source": [
    "st"
   ]
  },
  {
   "cell_type": "code",
   "execution_count": 14,
   "metadata": {},
   "outputs": [
    {
     "name": "stdout",
     "output_type": "stream",
     "text": [
      "start\n",
      "s\n",
      "sentence\n"
     ]
    }
   ],
   "source": [
    "for word in st.split():\n",
    "    if word[0] == 's':\n",
    "        \n",
    "        print(word)\n",
    "    "
   ]
  },
  {
   "cell_type": "code",
   "execution_count": 15,
   "metadata": {},
   "outputs": [],
   "source": [
    "st = 'Create a list of the first letters of every word in this string'\n"
   ]
  },
  {
   "cell_type": "code",
   "execution_count": 28,
   "metadata": {},
   "outputs": [],
   "source": [
    "d = [word[0] for word in st.split() ]"
   ]
  },
  {
   "cell_type": "code",
   "execution_count": 29,
   "metadata": {},
   "outputs": [
    {
     "data": {
      "text/plain": [
       "['P', 'e', 'w', 'i', 't', 's', 't', 'h', 'a', 'e', 'n', 'o', 'l']"
      ]
     },
     "execution_count": 29,
     "metadata": {},
     "output_type": "execute_result"
    }
   ],
   "source": [
    "d"
   ]
  },
  {
   "cell_type": "code",
   "execution_count": 23,
   "metadata": {},
   "outputs": [],
   "source": [
    "st = 'Print every word in this sentence that has an even number of letters'"
   ]
  },
  {
   "cell_type": "code",
   "execution_count": 26,
   "metadata": {},
   "outputs": [
    {
     "name": "stdout",
     "output_type": "stream",
     "text": [
      "word is even!\n",
      "in is even!\n",
      "this is even!\n",
      "sentence is even!\n",
      "that is even!\n",
      "an is even!\n",
      "even is even!\n",
      "number is even!\n",
      "of is even!\n"
     ]
    }
   ],
   "source": [
    "for word in st.split():\n",
    "    if len(word) %2 == 0:\n",
    "        print(word + ' is even!')"
   ]
  },
  {
   "cell_type": "code",
   "execution_count": 27,
   "metadata": {},
   "outputs": [
    {
     "name": "stdout",
     "output_type": "stream",
     "text": [
      "1\n",
      "2\n",
      "yes\n",
      "4\n",
      "no\n",
      "yes\n",
      "7\n",
      "8\n",
      "yes\n",
      "no\n",
      "11\n",
      "yes\n",
      "13\n",
      "14\n",
      "YesNo\n",
      "16\n",
      "17\n",
      "yes\n",
      "19\n",
      "no\n",
      "yes\n",
      "22\n",
      "23\n",
      "yes\n",
      "no\n",
      "26\n",
      "yes\n",
      "28\n",
      "29\n",
      "YesNo\n",
      "31\n",
      "32\n",
      "yes\n",
      "34\n",
      "no\n",
      "yes\n",
      "37\n",
      "38\n",
      "yes\n",
      "no\n",
      "41\n",
      "yes\n",
      "43\n",
      "44\n",
      "YesNo\n",
      "46\n",
      "47\n",
      "yes\n",
      "49\n",
      "no\n",
      "yes\n",
      "52\n",
      "53\n",
      "yes\n",
      "no\n",
      "56\n",
      "yes\n",
      "58\n",
      "59\n",
      "YesNo\n",
      "61\n",
      "62\n",
      "yes\n",
      "64\n",
      "no\n",
      "yes\n",
      "67\n",
      "68\n",
      "yes\n",
      "no\n",
      "71\n",
      "yes\n",
      "73\n",
      "74\n",
      "YesNo\n",
      "76\n",
      "77\n",
      "yes\n",
      "79\n",
      "no\n",
      "yes\n",
      "82\n",
      "83\n",
      "yes\n",
      "no\n",
      "86\n",
      "yes\n",
      "88\n",
      "89\n",
      "YesNo\n",
      "91\n",
      "92\n",
      "yes\n",
      "94\n",
      "no\n",
      "yes\n",
      "97\n",
      "98\n",
      "yes\n",
      "no\n"
     ]
    }
   ],
   "source": [
    "for num in range(1,101):\n",
    "    if num%5 == 0 and num%3 == 0:\n",
    "        print('YesNo')\n",
    "    elif num%3 == 0:\n",
    "        print('yes')\n",
    "    elif num%5 == 0:\n",
    "        print('no')\n",
    "    else:\n",
    "        print(num)"
   ]
  },
  {
   "cell_type": "code",
   "execution_count": 9,
   "metadata": {},
   "outputs": [
    {
     "name": "stdin",
     "output_type": "stream",
     "text": [
      "Enter a grade :  s\n"
     ]
    },
    {
     "name": "stdout",
     "output_type": "stream",
     "text": [
      "30\n"
     ]
    }
   ],
   "source": [
    "s = 10\n",
    "a = 9\n",
    "b = 8\n",
    "credit=3\n",
    "sub = input('Enter a grade : ')\n",
    "if sub =='s':\n",
    "    x =s*credit\n",
    "    print(x)\n",
    "elif sub =='a':\n",
    "    y = a*credit\n",
    "    print(y)\n",
    "else :\n",
    "    print('no')\n",
    "    \n",
    "       "
   ]
  }
 ],
 "metadata": {
  "kernelspec": {
   "display_name": "Python 3",
   "language": "python",
   "name": "python3"
  },
  "language_info": {
   "codemirror_mode": {
    "name": "ipython",
    "version": 3
   },
   "file_extension": ".py",
   "mimetype": "text/x-python",
   "name": "python",
   "nbconvert_exporter": "python",
   "pygments_lexer": "ipython3",
   "version": "3.7.4"
  }
 },
 "nbformat": 4,
 "nbformat_minor": 4
}
